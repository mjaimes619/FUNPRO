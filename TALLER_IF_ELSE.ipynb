{
  "nbformat": 4,
  "nbformat_minor": 0,
  "metadata": {
    "colab": {
      "provenance": [],
      "authorship_tag": "ABX9TyMhBVOWHnDUrGKIzWFkkV59",
      "include_colab_link": true
    },
    "kernelspec": {
      "name": "python3",
      "display_name": "Python 3"
    },
    "language_info": {
      "name": "python"
    }
  },
  "cells": [
    {
      "cell_type": "markdown",
      "metadata": {
        "id": "view-in-github",
        "colab_type": "text"
      },
      "source": [
        "<a href=\"https://colab.research.google.com/github/mjaimes619/FUNPRO/blob/main/TALLER_IF_ELSE.ipynb\" target=\"_parent\"><img src=\"https://colab.research.google.com/assets/colab-badge.svg\" alt=\"Open In Colab\"/></a>"
      ]
    },
    {
      "cell_type": "code",
      "execution_count": 31,
      "metadata": {
        "colab": {
          "base_uri": "https://localhost:8080/"
        },
        "id": "82MKPrtmbhgJ",
        "outputId": "1a61ed75-2ac9-4b3e-bf49-0bce7e7b6ce4"
      },
      "outputs": [
        {
          "output_type": "stream",
          "name": "stdout",
          "text": [
            "La probabilidad de lluvia es 0\n",
            "Son las 14\n",
            "La temperatura es 20\n",
            "La humedad del suelo es 25\n",
            "Se riega debido a que las condiciones son optimas\n"
          ]
        }
      ],
      "source": [
        "prob_lluvia=float(input(\"La probabilidad de lluvia es \"))\n",
        "hora=float(input(\"Son las \"))\n",
        "temp_c=float(input(\"La temperatura es \"))\n",
        "humedad=float(input(\"La humedad del suelo es \"))\n",
        "if prob_lluvia>=70:\n",
        "  print(\"No se riega debido a que la probabilidad de lluvia es del\",prob_lluvia,\"%\")\n",
        "elif hora>=11 and hora<=15 and temp_c>30:\n",
        "  print(\"No se riega para evitar la evaporacion\")\n",
        "elif prob_lluvia==0 and humedad==0 and temp_c==0:\n",
        "  print(\"Error sensor\")\n",
        "elif humedad<35 and prob_lluvia<40:\n",
        "  print(\"Se riega debido a que las condiciones son optimas\")\n",
        ""
      ]
    },
    {
      "cell_type": "code",
      "source": [
        "kwh=float(input(\"La cantidad de kilobatios consumidos son \"))\n",
        "estrato=int(input(\"Estrato \"))\n",
        "fds=input(\"Es fin de semana?(si o no): \")\n",
        "base=kwh*620\n",
        "if kwh<0 or estrato<0:\n",
        "  print(\"Error, se debe programar una visita al predio\")\n",
        "elif fds==\"no\" and kwh>1000:\n",
        "  recargo= (kwh-1000)*800\n",
        "  pf= (base+recargo)\n",
        "  print(\"Se hace un recargo de $\",recargo,\"debido a un exceso en el consumo\")\n",
        "\n",
        "if estrato== 0 or estrato==1 or estrato==2:\n",
        "   dsc=base*0.2\n",
        "   pd=(base-dsc+recargo)\n",
        "   print(\"Se hace un descuento de $\",dsc)\n",
        "   print(\"El precio total es de $\",pd)\n",
        "elif kwh<0 or estrato<0:\n",
        "  print(\"\")\n",
        "else:\n",
        "  print(\"El precio final a pagar es de $\",pf)"
      ],
      "metadata": {
        "colab": {
          "base_uri": "https://localhost:8080/"
        },
        "id": "ruPSFzDGkuVk",
        "outputId": "d18451b2-1950-4145-fd2d-2b1a29b95099"
      },
      "execution_count": 75,
      "outputs": [
        {
          "output_type": "stream",
          "name": "stdout",
          "text": [
            "La cantidad de kilobatios consumidos son 1000\n",
            "Estrato -5\n",
            "Es fin de semana?(si o no): si\n",
            "Error, se debe programar una visita al predio\n",
            "\n"
          ]
        }
      ]
    }
  ]
}
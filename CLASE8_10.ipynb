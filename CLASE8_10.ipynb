{
  "nbformat": 4,
  "nbformat_minor": 0,
  "metadata": {
    "colab": {
      "provenance": [],
      "authorship_tag": "ABX9TyMVXXhfobEHQQeSTzgRRKc7",
      "include_colab_link": true
    },
    "kernelspec": {
      "name": "python3",
      "display_name": "Python 3"
    },
    "language_info": {
      "name": "python"
    }
  },
  "cells": [
    {
      "cell_type": "markdown",
      "metadata": {
        "id": "view-in-github",
        "colab_type": "text"
      },
      "source": [
        "<a href=\"https://colab.research.google.com/github/mjaimes619/FUNPRO/blob/main/CLASE8_10.ipynb\" target=\"_parent\"><img src=\"https://colab.research.google.com/assets/colab-badge.svg\" alt=\"Open In Colab\"/></a>"
      ]
    },
    {
      "cell_type": "markdown",
      "source": [
        "##ESTRUCTURA PARA\n",
        "* La estructura para se emplea cuando sabe **cuantas veces** se repite una accion.\n",
        "\n",
        "Sintaxis\n",
        "\n",
        "\n",
        "```\n",
        "for(variable) in range (VI,VF,pasos);\n",
        "  La accion que se repite VF-VI\n",
        "```\n",
        "\n"
      ],
      "metadata": {
        "id": "L_iOdWpasHy8"
      }
    },
    {
      "cell_type": "code",
      "source": [
        "##Hacer un programa que calcule la nomina de n empleados\n",
        "nomina=0\n",
        "n=int(input(\"Ingrese la cantidad de empleados: \"))\n",
        "for e in range(1,n+1,1):\n",
        "  sueldo=int(input(f\"Ingrese el salario del empleado {e}: \"))\n",
        "  nomina=nomina+sueldo #Acumulador\n",
        "print(f\"La nomina de {n} empleados es: {nomina}\")"
      ],
      "metadata": {
        "colab": {
          "base_uri": "https://localhost:8080/"
        },
        "id": "HFhipKlMsnZU",
        "outputId": "3c726157-4bd7-4ea0-be1b-5aedb5a56482"
      },
      "execution_count": 13,
      "outputs": [
        {
          "output_type": "stream",
          "name": "stdout",
          "text": [
            "Ingrese la cantidad de empleados: 5\n",
            "Ingrese el salario del empleado 1: 5\n",
            "Ingrese el salario del empleado 2: 10\n",
            "Ingrese el salario del empleado 3: 15\n",
            "Ingrese el salario del empleado 4: 20\n",
            "Ingrese el salario del empleado 5: 5\n",
            "La nomina de 5 empleados es: 55\n"
          ]
        }
      ]
    },
    {
      "cell_type": "code",
      "source": [
        "##Hacer un programa que calcule la nomina de n empleados\n",
        "nomina=0\n",
        "n=int(input(\"Ingrese la cantidad de empleados: \"))\n",
        "for e in range(n):\n",
        "  sueldo=int(input(f\"Ingrese el salario del empleado {e+1}: \"))\n",
        "  nomina=nomina+sueldo #Acumulador\n",
        "print(f\"La nomina de {n} empleados es: {nomina}\")"
      ],
      "metadata": {
        "colab": {
          "base_uri": "https://localhost:8080/"
        },
        "id": "fqBsSUC0vPyP",
        "outputId": "22c1f359-f841-48f0-81ad-2941dbace1cf"
      },
      "execution_count": 14,
      "outputs": [
        {
          "output_type": "stream",
          "name": "stdout",
          "text": [
            "Ingrese la cantidad de empleados: 2\n",
            "Ingrese el salario del empleado 1: 24\n",
            "Ingrese el salario del empleado 2: 1\n",
            "La nomina de 2 empleados es: 25\n"
          ]
        }
      ]
    }
  ]
}
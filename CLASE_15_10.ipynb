{
  "nbformat": 4,
  "nbformat_minor": 0,
  "metadata": {
    "colab": {
      "provenance": [],
      "authorship_tag": "ABX9TyP+Gga8eov2+TRsp6A9k5z3",
      "include_colab_link": true
    },
    "kernelspec": {
      "name": "python3",
      "display_name": "Python 3"
    },
    "language_info": {
      "name": "python"
    }
  },
  "cells": [
    {
      "cell_type": "markdown",
      "metadata": {
        "id": "view-in-github",
        "colab_type": "text"
      },
      "source": [
        "<a href=\"https://colab.research.google.com/github/mjaimes619/FUNPRO/blob/main/CLASE_15_10.ipynb\" target=\"_parent\"><img src=\"https://colab.research.google.com/assets/colab-badge.svg\" alt=\"Open In Colab\"/></a>"
      ]
    },
    {
      "cell_type": "code",
      "execution_count": 6,
      "metadata": {
        "colab": {
          "base_uri": "https://localhost:8080/"
        },
        "id": "OYavAPjXiokL",
        "outputId": "43c8a69d-bc15-4f61-bb7a-ba1e82c61f7a"
      },
      "outputs": [
        {
          "output_type": "stream",
          "name": "stdout",
          "text": [
            "Ingrese la cantidad de numeros a analizar 3\n",
            "Ingrese el numero 1: 01\n",
            "Ingrese el numero 2: 0\n",
            "La cantidad de ceros en 3 numeros es 0.\n"
          ]
        }
      ],
      "source": [
        "cero=0\n",
        "n=int(input(\"Ingrese la cantidad de numeros a analizar \"))\n",
        "for i in range(n):\n",
        "  e=int(input(f\"Ingrese el numero {i}: \"))\n",
        "  if num==0: cero=cero+1\n",
        "print(f\"La cantidad de ceros en {n} numeros es {cero}.\")"
      ]
    },
    {
      "cell_type": "code",
      "source": [
        "impar=0\n",
        "pares=0\n",
        "n=0\n",
        "\n",
        "for i in range(53): #Quiero que se repita una cantidad de veces, en este caso 10\n",
        "  num=int(input(\"ingrese un numero: \"))\n",
        "  if num%2==0:\n",
        "    pares=pares+num\n",
        "    n=n+1\n",
        "  else: impar=impar+num\n",
        "\n",
        "print(f\"La suma de los numeros impares es {impar}\")\n",
        "print(f\"El promedio de los numeros pares es {pares}\")"
      ],
      "metadata": {
        "colab": {
          "base_uri": "https://localhost:8080/",
          "height": 106
        },
        "id": "Z9uWoUw5prdK",
        "outputId": "382a6d7e-a5ea-45c2-adc6-7ab9d5595cae"
      },
      "execution_count": 3,
      "outputs": [
        {
          "output_type": "error",
          "ename": "SyntaxError",
          "evalue": "invalid syntax. Perhaps you forgot a comma? (ipython-input-1630391337.py, line 5)",
          "traceback": [
            "\u001b[0;36m  File \u001b[0;32m\"/tmp/ipython-input-1630391337.py\"\u001b[0;36m, line \u001b[0;32m5\u001b[0m\n\u001b[0;31m    for i in range(5212\u001b[0m\n\u001b[0m                   ^\u001b[0m\n\u001b[0;31mSyntaxError\u001b[0m\u001b[0;31m:\u001b[0m invalid syntax. Perhaps you forgot a comma?\n"
          ]
        }
      ]
    },
    {
      "cell_type": "code",
      "source": [
        "cifras=int(input(\"Ingrese el numero de cifras de su numero: \"))\n",
        "uno=0\n",
        "\n",
        "for i in range(cifras):\n",
        "  num=int(input(f\"Ingrese la cifra {i} de su numero: \"))\n",
        "  if num==1: uno=uno+1\n",
        "print(f\"La cantidad de 1 en su numero es de {uno}.\")"
      ],
      "metadata": {
        "colab": {
          "base_uri": "https://localhost:8080/"
        },
        "id": "Sy9OXYShCVCI",
        "outputId": "932e44f5-e4cc-49d5-e743-3e7d25100c12"
      },
      "execution_count": 5,
      "outputs": [
        {
          "output_type": "stream",
          "name": "stdout",
          "text": [
            "Ingrese el numero de cifras de su numero: 3\n",
            "Ingrese la cifra 0 de su numero: 2\n",
            "Ingrese la cifra 1 de su numero: 1\n",
            "Ingrese la cifra 2 de su numero: 5\n",
            "La cantidad de 1 en su numero es de 1.\n"
          ]
        }
      ]
    }
  ]
}
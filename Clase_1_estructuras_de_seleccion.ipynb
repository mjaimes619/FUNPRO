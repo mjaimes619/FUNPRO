{
  "nbformat": 4,
  "nbformat_minor": 0,
  "metadata": {
    "colab": {
      "provenance": [],
      "authorship_tag": "ABX9TyNrIKhBW62jO/WXVH4Vwg5U",
      "include_colab_link": true
    },
    "kernelspec": {
      "name": "python3",
      "display_name": "Python 3"
    },
    "language_info": {
      "name": "python"
    }
  },
  "cells": [
    {
      "cell_type": "markdown",
      "metadata": {
        "id": "view-in-github",
        "colab_type": "text"
      },
      "source": [
        "<a href=\"https://colab.research.google.com/github/mjaimes619/FUNPRO/blob/main/Clase_1_estructuras_de_seleccion.ipynb\" target=\"_parent\"><img src=\"https://colab.research.google.com/assets/colab-badge.svg\" alt=\"Open In Colab\"/></a>"
      ]
    },
    {
      "cell_type": "markdown",
      "source": [
        "#ESTRUCTURA DE SELECCION\n",
        "1. Estructura si/entonces- if/else\n",
        "2. Estructura si/sino/entonces - if/elif/else\n",
        "3. Estructura de seleccion multiple - case"
      ],
      "metadata": {
        "id": "5D43pdRBRWLi"
      }
    },
    {
      "cell_type": "markdown",
      "source": [
        "##Estructura si/entonces if/else\n",
        "SIrve para evaluar una condicio.\n",
        "Estas condiciones daran un valor de verdad\n",
        "Sintaxis\n",
        "\n",
        "\n",
        "```\n",
        "if(condicion):\n",
        "  aqui va algo, si la condicion es verdadera\n",
        "else:\n",
        "  aqui va algo, si la condicion es falsa\n",
        "```\n"
      ],
      "metadata": {
        "id": "HOipbppvT-Em"
      }
    },
    {
      "cell_type": "code",
      "source": [
        "#Ejemplo1: AI para gasolina\n",
        "respuesta=\"\" #Declaramos una variable como caracter\n",
        "#para imprimir, usamos comando print\n",
        "print(\"Detecto poca gasolina en el tanque\")\n",
        "print(\"Desea ir a la gasolinera mas cercana?\")\n",
        "#funcion input para leer respuestas\n",
        "respuesta=input()"
      ],
      "metadata": {
        "colab": {
          "base_uri": "https://localhost:8080/"
        },
        "id": "aTtQO1uiUMoH",
        "outputId": "efaf460d-6af3-4439-bbe1-7659a4cfa7c8"
      },
      "execution_count": 18,
      "outputs": [
        {
          "output_type": "stream",
          "name": "stdout",
          "text": [
            "Detecto poca gasolina en el tanque\n",
            "Desea ir a la gasolinera mas cercana?\n",
            "Si\n",
            "Ir a la gasolinera mas cercana\n"
          ]
        }
      ]
    },
    {
      "cell_type": "code",
      "source": [
        "respuesta=input(\"Detecto poca gasolina en el tanque\\nDesea ir a la gasolinera mas cercana?\")"
      ],
      "metadata": {
        "colab": {
          "base_uri": "https://localhost:8080/"
        },
        "id": "fj8BFJcubRcA",
        "outputId": "13e5f202-24d6-42c9-a476-52c9b5d0b2f0"
      },
      "execution_count": 8,
      "outputs": [
        {
          "name": "stdout",
          "output_type": "stream",
          "text": [
            "Detecto poca gasolina en el tanque\n",
            "Desea ir a la gasolinera mas cercana?SI\n"
          ]
        }
      ]
    },
    {
      "cell_type": "code",
      "source": [
        "if respuesta==\"Si\":\n",
        "  print(\"Ir a la gasolinera mas cercana\")\n",
        "else:\n",
        "    print(\"Seguimos derecho\")"
      ],
      "metadata": {
        "colab": {
          "base_uri": "https://localhost:8080/"
        },
        "id": "ZeksIXrRcnQP",
        "outputId": "600aec35-814f-41cc-b75d-28296b708c53"
      },
      "execution_count": 19,
      "outputs": [
        {
          "output_type": "stream",
          "name": "stdout",
          "text": [
            "Ir a la gasolinera mas cercana\n"
          ]
        }
      ]
    },
    {
      "cell_type": "code",
      "source": [
        "#vamos a mejorar el ejercicio\n",
        "import random #importando la libreria random\n",
        "gasolina=random,dandint(1,100)#hallar un numero aleatorio entre 1 y 100\n",
        "gasolina"
      ],
      "metadata": {
        "id": "XgfoNtN-hJ-s"
      },
      "execution_count": null,
      "outputs": []
    },
    {
      "cell_type": "code",
      "source": [
        "if gasolina<=10:\n",
        "  respuesta=input(\"Detecto poca gasolina en el tanque\\nDesea ir a la gasolinera más cercana?\")\n",
        "  if respuesta==\"sí\":\n",
        "    print(\"Ir a la gasolinera más cercana\")\n",
        "  else:\n",
        "    print(\"seguimos derecho\")\n",
        "else:\n",
        "  print(\"Sigo por el camino\")"
      ],
      "metadata": {
        "colab": {
          "base_uri": "https://localhost:8080/",
          "height": 211
        },
        "id": "7YpYEss7hZdc",
        "outputId": "9ffbccd0-e1a5-4257-ed51-9db98810fa77"
      },
      "execution_count": 67,
      "outputs": [
        {
          "output_type": "error",
          "ename": "NameError",
          "evalue": "name 'gasolina' is not defined",
          "traceback": [
            "\u001b[0;31m---------------------------------------------------------------------------\u001b[0m",
            "\u001b[0;31mNameError\u001b[0m                                 Traceback (most recent call last)",
            "\u001b[0;32m/tmp/ipython-input-3273986166.py\u001b[0m in \u001b[0;36m<cell line: 0>\u001b[0;34m()\u001b[0m\n\u001b[0;32m----> 1\u001b[0;31m \u001b[0;32mif\u001b[0m \u001b[0mgasolina\u001b[0m\u001b[0;34m<=\u001b[0m\u001b[0;36m10\u001b[0m\u001b[0;34m:\u001b[0m\u001b[0;34m\u001b[0m\u001b[0;34m\u001b[0m\u001b[0m\n\u001b[0m\u001b[1;32m      2\u001b[0m   \u001b[0mrespuesta\u001b[0m\u001b[0;34m=\u001b[0m\u001b[0minput\u001b[0m\u001b[0;34m(\u001b[0m\u001b[0;34m\"Detecto poca gasolina en el tanque\\nDesea ir a la gasolinera más cercana?\"\u001b[0m\u001b[0;34m)\u001b[0m\u001b[0;34m\u001b[0m\u001b[0;34m\u001b[0m\u001b[0m\n\u001b[1;32m      3\u001b[0m   \u001b[0;32mif\u001b[0m \u001b[0mrespuesta\u001b[0m\u001b[0;34m==\u001b[0m\u001b[0;34m\"sí\"\u001b[0m\u001b[0;34m:\u001b[0m\u001b[0;34m\u001b[0m\u001b[0;34m\u001b[0m\u001b[0m\n\u001b[1;32m      4\u001b[0m     \u001b[0mprint\u001b[0m\u001b[0;34m(\u001b[0m\u001b[0;34m\"Ir a la gasolinera más cercana⛽\"\u001b[0m\u001b[0;34m)\u001b[0m\u001b[0;34m\u001b[0m\u001b[0;34m\u001b[0m\u001b[0m\n\u001b[1;32m      5\u001b[0m   \u001b[0;32melse\u001b[0m\u001b[0;34m:\u001b[0m\u001b[0;34m\u001b[0m\u001b[0;34m\u001b[0m\u001b[0m\n",
            "\u001b[0;31mNameError\u001b[0m: name 'gasolina' is not defined"
          ]
        }
      ]
    }
  ]
}
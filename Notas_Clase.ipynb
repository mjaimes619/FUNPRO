{
  "nbformat": 4,
  "nbformat_minor": 0,
  "metadata": {
    "colab": {
      "provenance": [],
      "authorship_tag": "ABX9TyNBo+RiSVTC68Zjb9bLitNK",
      "include_colab_link": true
    },
    "kernelspec": {
      "name": "python3",
      "display_name": "Python 3"
    },
    "language_info": {
      "name": "python"
    }
  },
  "cells": [
    {
      "cell_type": "markdown",
      "metadata": {
        "id": "view-in-github",
        "colab_type": "text"
      },
      "source": [
        "<a href=\"https://colab.research.google.com/github/mjaimes619/FUNPRO/blob/main/Notas_Clase.ipynb\" target=\"_parent\"><img src=\"https://colab.research.google.com/assets/colab-badge.svg\" alt=\"Open In Colab\"/></a>"
      ]
    },
    {
      "cell_type": "code",
      "execution_count": 3,
      "metadata": {
        "colab": {
          "base_uri": "https://localhost:8080/"
        },
        "id": "Fbdp-k2rppyF",
        "outputId": "0d95202b-7667-4e7f-e6bc-07a6467a9107"
      },
      "outputs": [
        {
          "output_type": "stream",
          "name": "stdout",
          "text": [
            "Ingrese la nota 1: 0\n",
            "Ingrese la nota 2: 0\n",
            "Ingrese la nota 3: 2\n",
            "Ingrese la nota 4: 5\n",
            "Ingrese las fallas del estudiante: 3\n",
            "Cuantas son las horas de su programa: 80\n",
            "Reprobo\n"
          ]
        }
      ],
      "source": [
        "n1=float(input(\"Ingrese la nota 1: \"))\n",
        "n2=float(input(\"Ingrese la nota 2: \"))\n",
        "n3=float(input(\"Ingrese la nota 3: \"))\n",
        "n4=float(input(\"Ingrese la nota 4: \"))\n",
        "f=int(input(\"Ingrese las fallas del estudiante: \"))\n",
        "a=int(input(\"Cuantas son las horas de su programa: \"))\n",
        "p=(n1+n2+n3)*0.8+(n4*0.2)\n",
        "if p>3:\n",
        "  if a*2<f:\n",
        "    print(\"Aprobo\")\n",
        "  else:\n",
        "    print(\"Reprobo\")\n",
        "else:\n",
        "  print(\"Reprobo.\")"
      ]
    }
  ]
}
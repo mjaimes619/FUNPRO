{
  "nbformat": 4,
  "nbformat_minor": 0,
  "metadata": {
    "colab": {
      "provenance": [],
      "authorship_tag": "ABX9TyMw5t10fD3/Svur9u41zS1X",
      "include_colab_link": true
    },
    "kernelspec": {
      "name": "python3",
      "display_name": "Python 3"
    },
    "language_info": {
      "name": "python"
    }
  },
  "cells": [
    {
      "cell_type": "markdown",
      "metadata": {
        "id": "view-in-github",
        "colab_type": "text"
      },
      "source": [
        "<a href=\"https://colab.research.google.com/github/mjaimes619/FUNPRO/blob/main/Notas_Clase.ipynb\" target=\"_parent\"><img src=\"https://colab.research.google.com/assets/colab-badge.svg\" alt=\"Open In Colab\"/></a>"
      ]
    },
    {
      "cell_type": "code",
      "execution_count": null,
      "metadata": {
        "colab": {
          "base_uri": "https://localhost:8080/"
        },
        "id": "Fbdp-k2rppyF",
        "outputId": "0d95202b-7667-4e7f-e6bc-07a6467a9107"
      },
      "outputs": [
        {
          "output_type": "stream",
          "name": "stdout",
          "text": [
            "Ingrese la nota 1: 0\n",
            "Ingrese la nota 2: 0\n",
            "Ingrese la nota 3: 2\n",
            "Ingrese la nota 4: 5\n",
            "Ingrese las fallas del estudiante: 3\n",
            "Cuantas son las horas de su programa: 80\n",
            "Reprobo\n"
          ]
        }
      ],
      "source": [
        "n1=float(input(\"Ingrese la nota 1: \"))\n",
        "n2=float(input(\"Ingrese la nota 2: \"))\n",
        "n3=float(input(\"Ingrese la nota 3: \"))\n",
        "n4=float(input(\"Ingrese la nota 4: \"))\n",
        "f=int(input(\"Ingrese las fallas del estudiante: \"))\n",
        "a=int(input(\"Cuantas son las horas de su programa: \"))\n",
        "p=(n1+n2+n3)*0.8+(n4*0.2)\n",
        "if p>3:\n",
        "  if a*2<f:\n",
        "    print(\"Aprobo\")\n",
        "  else:\n",
        "    print(\"Reprobo\")\n",
        "else:\n",
        "  print(\"Reprobo.\")"
      ]
    },
    {
      "cell_type": "markdown",
      "source": [
        "##IF-ELIF-ELSE\n",
        "\n",
        "Una de las formas para representar un switch\n",
        "1. Hay una o varias variables a evaluar\n",
        "2. Hay tantas condiciones como \"paticas\" +1\n",
        "3. La ultima evaluacion es ninguna de las anteriores (else)\n",
        "4. La primera patica siempre recibe el if\n",
        "5. El resto de paticas recibe \"elif\"\n",
        "Sintaxis\n"
      ],
      "metadata": {
        "id": "f8DYEJE7SZ1C"
      }
    },
    {
      "cell_type": "code",
      "source": [
        "prom=float(input(\"Ingrese cual es su promedio \"))\n",
        "asistencia=int(input(\"Ingrese la cantidad de horas asistidas \"))\n",
        "horas_totales=int(input(\"Ingrese la cantidad de horas totales de la clase \"))\n",
        "if prom>=3 and asistencia>(horas_totales*0.8):\n",
        "  print(f\"El estudiante paso la materia con {prom} y asistencia de mas del 80% de la clase\")\n",
        "elif prom<=3 and asistencia>(horas_totales*0.8):\n",
        "  print(f\"El estudiante perdio la materia con una nota de {prom} pero asistio a mas del 80% de la clase\")\n",
        "elif prom>=3 and asistencia<(horas_totales*0.8):\n",
        "  print(f\"El estudiante paso la materia con {prom} pero perdio debido a inasistencia\")\n",
        "else:\n",
        "  print(f\"El estudiante perdio con una nota de {prom} y no asistio a las clases debidas\")"
      ],
      "metadata": {
        "colab": {
          "base_uri": "https://localhost:8080/"
        },
        "id": "Le1WgNpQTByk",
        "outputId": "7dbdbf26-18de-46ce-a116-557b03484741"
      },
      "execution_count": 2,
      "outputs": [
        {
          "output_type": "stream",
          "name": "stdout",
          "text": [
            "Ingrese cual es su promedio 3.7\n",
            "Ingrese la cantidad de horas asistidas 5\n",
            "Ingrese la cantidad de horas totales de la clase 15\n",
            "El estudiante paso la materia con 3.7 pero perdio debido a inasistencia\n"
          ]
        }
      ]
    },
    {
      "cell_type": "markdown",
      "source": [
        "#MATCH-CASE\n",
        "Otra forma de ver la estructura switch\n",
        "1. Dentro del hexagono se coloca la variable a evaluar\n",
        "2. Tantas \"paticas\" como valores pueda adoptar la variable\n",
        "3. Opcional: Se coloca else-->case _\n",
        "\n",
        "Sintaxis\n",
        "```\n",
        "match variable:\n",
        " case valor1: expresion 1\n",
        " case valor2: expresion 2\n",
        " case valorn: expresion n\n",
        " case _: ninguna de las anteriores\n",
        "```\n",
        "\n"
      ],
      "metadata": {
        "id": "diGHVdfOYR2j"
      }
    },
    {
      "cell_type": "code",
      "source": [
        "letra=input(\"Ingresa una vocal: \")\n",
        "match letra:\n",
        "  case \"a\":print(f\"{letra} es una vocal minuscula\")\n",
        "  case \"e\":print(f\"{letra} es una vocal minuscula\")\n",
        "  case \"i\":print(f\"{letra} es una vocal minuscula\")\n",
        "  case \"o\":print(f\"{letra} es una vocal minuscula\")\n",
        "  case \"u\":print(f\"{letra} es una vocal minuscula\")\n",
        "  case \"A\":print(f\"{letra} es una vocal MAYUSCULA\")\n",
        "  case \"E\":print(f\"{letra} es una vocal MAYUSCULA\")\n",
        "  case \"I\":print(f\"{letra} es una vocal MAYUSCULA\")\n",
        "  case \"O\":print(f\"{letra} es una vocal MAYUSCULA\")\n",
        "  case \"U\":print(f\"{letra} es una vocal MAYUSCULA\")\n",
        "  case _:print(f\"{letra} no es una vocal\")"
      ],
      "metadata": {
        "colab": {
          "base_uri": "https://localhost:8080/"
        },
        "id": "LmrQLdIIaPne",
        "outputId": "947a050b-8a5b-49c6-9383-23f5bcc5769a"
      },
      "execution_count": 5,
      "outputs": [
        {
          "output_type": "stream",
          "name": "stdout",
          "text": [
            "Ingresa una vocal: a\n",
            "a es una vocal minuscula\n"
          ]
        }
      ]
    },
    {
      "cell_type": "code",
      "source": [
        "letra=input(\"ingresa una vocal: \")\n",
        "if letra==\"a\":\n",
        "  print(f\"{letra} es una vocal minuscula\")\n",
        "elif letra==\"e\":\n",
        "  print(f\"{letra} es una vocal minuscula\")\n",
        "elif letra==\"i\":\n",
        "  print(f\"{letra} es una vocal minuscula\")\n",
        "elif letra==\"o\":\n",
        "  print(f\"{letra} es una vocal minuscula\")\n",
        "elif letra==\"u\":\n",
        "  print(f\"{letra} es una vocal minuscula\")\n",
        "elif letra==\"A\":\n",
        "  print(f\"{letra} es una vocal MAYUSCULA\")\n",
        "elif letra==\"E\":\n",
        "  print(f\"{letra} es una vocal MAYUSCULA\")\n",
        "elif letra==\"I\":\n",
        "  print(f\"{letra} es una vocal MAYUSCULA\")\n",
        "elif letra==\"O\":\n",
        "  print(f\"{letra} es una vocal MAYUSCULA\")\n",
        "elif letra==\"U\":\n",
        "  print(f\"{letra} es una vocal MAYUSCULA\")\n",
        "else:\n",
        "  print(f\"{letra} NO es una vocal\")"
      ],
      "metadata": {
        "colab": {
          "base_uri": "https://localhost:8080/"
        },
        "id": "P-kc1Jqia74t",
        "outputId": "8a61521e-eae3-4d0c-9ece-03340d483040"
      },
      "execution_count": 8,
      "outputs": [
        {
          "output_type": "stream",
          "name": "stdout",
          "text": [
            "ingresa una vocal: i\n",
            "i es una vocal minuscula\n"
          ]
        }
      ]
    },
    {
      "cell_type": "code",
      "source": [
        "letra=input(\"ingresa una vocal: \")\n",
        "if letra==\"a\" or letra==\"e\" or letra==\"i\" or letra==\"o\" or letra==\"u\":\n",
        "  print(f\"{letra} es una vocal minuscula\")\n",
        "elif letra==\"A\" or letra==\"E\" or letra==\"I\" or letra==\"O\" or letra==\"U\":\n",
        "  print(f\"{letra} es una vocal MAYUSCULA\")\n",
        "else:\n",
        "  print(f\"{letra} NO es una vocal\")"
      ],
      "metadata": {
        "colab": {
          "base_uri": "https://localhost:8080/"
        },
        "id": "JR8HGm5hcY_d",
        "outputId": "4d6133ed-cc26-4f8f-cdda-0f207d137a9f"
      },
      "execution_count": 10,
      "outputs": [
        {
          "output_type": "stream",
          "name": "stdout",
          "text": [
            "ingresa una vocal: o\n",
            "o es una vocal minuscula\n"
          ]
        }
      ]
    }
  ]
}
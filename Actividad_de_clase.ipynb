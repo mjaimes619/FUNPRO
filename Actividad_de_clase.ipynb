{
  "nbformat": 4,
  "nbformat_minor": 0,
  "metadata": {
    "colab": {
      "provenance": [],
      "authorship_tag": "ABX9TyOz4DmgY7KRB2Iu3PVsb/aF",
      "include_colab_link": true
    },
    "kernelspec": {
      "name": "python3",
      "display_name": "Python 3"
    },
    "language_info": {
      "name": "python"
    }
  },
  "cells": [
    {
      "cell_type": "markdown",
      "metadata": {
        "id": "view-in-github",
        "colab_type": "text"
      },
      "source": [
        "<a href=\"https://colab.research.google.com/github/mjaimes619/FUNPRO/blob/main/Actividad_de_clase.ipynb\" target=\"_parent\"><img src=\"https://colab.research.google.com/assets/colab-badge.svg\" alt=\"Open In Colab\"/></a>"
      ]
    },
    {
      "cell_type": "code",
      "execution_count": 1,
      "metadata": {
        "colab": {
          "base_uri": "https://localhost:8080/"
        },
        "id": "16yPfuu7pnR9",
        "outputId": "0e93caee-54a2-41b3-ea27-840bd3988be3"
      },
      "outputs": [
        {
          "output_type": "stream",
          "name": "stdout",
          "text": [
            "Ingrese su calificacion5\n",
            "Ha aprobado el curso con una nota de 5.0\n"
          ]
        }
      ],
      "source": [
        "c=float(input(\"Ingrese su calificacion \"))\n",
        "if c>=3.2:\n",
        "  print(\"Ha aprobado el curso con una nota de\",c)\n",
        "else:\n",
        "  print(\"Ha desaprobado el curso debido a que su nota es\",c)"
      ]
    },
    {
      "cell_type": "code",
      "source": [
        "s=float(input(\"Ingrese su sueldo \"))\n",
        "if s<=1000:\n",
        "  a1= s*0.15\n",
        "  sf=a1+s\n",
        "  print(\"el sueldo final es de\",sf)\n",
        "else:\n",
        "  a2=s*0.12\n",
        "  sf=a2+s\n",
        "  print(\"El sueldo final es de \",sf)"
      ],
      "metadata": {
        "id": "rtLMG6kvpobP"
      },
      "execution_count": null,
      "outputs": []
    }
  ]
}